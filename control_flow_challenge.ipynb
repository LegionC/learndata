{
 "cells": [
  {
   "cell_type": "code",
   "execution_count": 3,
   "metadata": {},
   "outputs": [
    {
     "data": {
      "text/plain": [
       "False"
      ]
     },
     "execution_count": 3,
     "metadata": {},
     "output_type": "execute_result"
    }
   ],
   "source": [
    "# Large power\n",
    "def large_power(base, exponent):\n",
    "    if base ** exponent > 5000:\n",
    "        return True\n",
    "    else:\n",
    "        return False\n",
    "    \n",
    "large_power(4, 2)"
   ]
  },
  {
   "cell_type": "code",
   "execution_count": null,
   "metadata": {},
   "outputs": [],
   "source": [
    "# Over Budget\n",
    "def over_budget(budget, food_bill, electricity_bill, internet_bill, rent):\n",
    "    if budget < food_bill + electricity_bill + internet_bill + rent:\n",
    "        return True\n",
    "    else:\n",
    "        return False"
   ]
  },
  {
   "cell_type": "code",
   "execution_count": null,
   "metadata": {},
   "outputs": [],
   "source": [
    "# Twice As Large\n",
    "def twice_as_large(num1, num2):\n",
    "    if num1 > num2 * 2:\n",
    "        return True\n",
    "    else: \n",
    "        return False"
   ]
  },
  {
   "cell_type": "code",
   "execution_count": null,
   "metadata": {},
   "outputs": [],
   "source": [
    "# Divisible By Ten 能被10整除\n",
    "def divisible_by_ten(num):\n",
    "    if num % 10 == 0:\n",
    "        return True\n",
    "    else:\n",
    "        return False"
   ]
  },
  {
   "cell_type": "code",
   "execution_count": null,
   "metadata": {},
   "outputs": [],
   "source": [
    "# Not Sum To Ten 相加不为10\n",
    "def not_sum_to_ten(num1, num2):\n",
    "    if num1 + num2 != 10:\n",
    "        return True\n",
    "    else:\n",
    "        return False\n",
    "\n",
    "# Done Control Flow Challenge 1"
   ]
  },
  {
   "cell_type": "code",
   "execution_count": 17,
   "metadata": {},
   "outputs": [],
   "source": [
    "# Control Flow Challenge 2\n",
    "# In range\n",
    "def in_range(num, lower, upper):\n",
    "  if(num >= lower and num <= upper):\n",
    "    return True\n",
    "  else:\n",
    "      return False "
   ]
  },
  {
   "cell_type": "code",
   "execution_count": null,
   "metadata": {},
   "outputs": [],
   "source": [
    "# same name\n",
    "def same_name(your_name, my_name):\n",
    "    if your_name == my_name:\n",
    "        return True\n",
    "    else: \n",
    "        return False"
   ]
  },
  {
   "cell_type": "code",
   "execution_count": null,
   "metadata": {},
   "outputs": [],
   "source": [
    "# Always False\n",
    "# 不要运行这个 这个是悖论\n",
    "def always_false(num):\n",
    "    if(num > 0 and num < 0):\n",
    "        return True\n",
    "    else:\n",
    "        return False"
   ]
  },
  {
   "cell_type": "code",
   "execution_count": 1,
   "metadata": {},
   "outputs": [],
   "source": [
    "# Movie Review\n",
    "def movie_review(rating):\n",
    "    if rating <= 5:\n",
    "        return \"Avoid at all costs!\"\n",
    "    if rating < 9:\n",
    "        return \"This one was fun.\"\n",
    "    else:\n",
    "        return \"Outstanding!\""
   ]
  },
  {
   "cell_type": "code",
   "execution_count": null,
   "metadata": {},
   "outputs": [],
   "source": [
    "# max number\n",
    "def max_num(num1, num2, num3):\n",
    "    if num1 > num2 and num1 > num3:\n",
    "        return num1\n",
    "    elif num2 > num1 and num2 > num3:\n",
    "        return num2\n",
    "    elif num3 > num1 and num3 > num2:\n",
    "        return num3\n",
    "    else:\n",
    "        return \"It's a tie!\"\n",
    "\n",
    "## 结束"
   ]
  }
 ],
 "metadata": {
  "interpreter": {
   "hash": "7812ea015bdcee6f23a998adcdd2ef97c151c0c241b7b7070987d9313e41299d"
  },
  "kernelspec": {
   "display_name": "Python 3.9.5 64-bit",
   "language": "python",
   "name": "python3"
  },
  "language_info": {
   "codemirror_mode": {
    "name": "ipython",
    "version": 3
   },
   "file_extension": ".py",
   "mimetype": "text/x-python",
   "name": "python",
   "nbconvert_exporter": "python",
   "pygments_lexer": "ipython3",
   "version": "3.9.5"
  },
  "orig_nbformat": 4
 },
 "nbformat": 4,
 "nbformat_minor": 2
}
